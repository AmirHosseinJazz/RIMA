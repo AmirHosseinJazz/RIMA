{
 "cells": [
  {
   "cell_type": "code",
   "execution_count": 4,
   "metadata": {},
   "outputs": [
    {
     "name": "stdout",
     "output_type": "stream",
     "text": [
      "Collecting requests-html\n",
      "  Obtaining dependency information for requests-html from https://files.pythonhosted.org/packages/24/bc/a4380f09bab3a776182578ce6b2771e57259d0d4dbce178205779abdc347/requests_html-0.10.0-py3-none-any.whl.metadata\n",
      "  Downloading requests_html-0.10.0-py3-none-any.whl.metadata (15 kB)\n",
      "Requirement already satisfied: requests in /home/levi/miniconda3/envs/mikasa/lib/python3.11/site-packages (from requests-html) (2.31.0)\n",
      "Collecting pyquery (from requests-html)\n",
      "  Obtaining dependency information for pyquery from https://files.pythonhosted.org/packages/36/b7/f7ccf9e52e2817e1265d3719c600fa4ef33c07de4d5ef0ced3f43ab1cef2/pyquery-2.0.0-py3-none-any.whl.metadata\n",
      "  Downloading pyquery-2.0.0-py3-none-any.whl.metadata (9.0 kB)\n",
      "Collecting fake-useragent (from requests-html)\n",
      "  Obtaining dependency information for fake-useragent from https://files.pythonhosted.org/packages/e4/99/60d8cf1b26938c2e0a57e232f7f15641dfcd6f8deda454d73e4145910ff6/fake_useragent-1.5.1-py3-none-any.whl.metadata\n",
      "  Downloading fake_useragent-1.5.1-py3-none-any.whl.metadata (15 kB)\n",
      "Collecting parse (from requests-html)\n",
      "  Obtaining dependency information for parse from https://files.pythonhosted.org/packages/d0/31/ba45bf0b2aa7898d81cbbfac0e88c267befb59ad91a19e36e1bc5578ddb1/parse-1.20.2-py2.py3-none-any.whl.metadata\n",
      "  Downloading parse-1.20.2-py2.py3-none-any.whl.metadata (22 kB)\n",
      "Collecting bs4 (from requests-html)\n",
      "  Obtaining dependency information for bs4 from https://files.pythonhosted.org/packages/51/bb/bf7aab772a159614954d84aa832c129624ba6c32faa559dfb200a534e50b/bs4-0.0.2-py2.py3-none-any.whl.metadata\n",
      "  Downloading bs4-0.0.2-py2.py3-none-any.whl.metadata (411 bytes)\n",
      "Collecting w3lib (from requests-html)\n",
      "  Obtaining dependency information for w3lib from https://files.pythonhosted.org/packages/df/d6/ff9000e85b820ab36c0a93f2c8a4b334a80821b631a56c252aed2d0bd2d3/w3lib-2.2.1-py3-none-any.whl.metadata\n",
      "  Downloading w3lib-2.2.1-py3-none-any.whl.metadata (2.1 kB)\n",
      "Collecting pyppeteer>=0.0.14 (from requests-html)\n",
      "  Obtaining dependency information for pyppeteer>=0.0.14 from https://files.pythonhosted.org/packages/3d/ee/fb2757a38025421fd3844a0ed0a230b78c9c04a66355024436cf3005a70c/pyppeteer-2.0.0-py3-none-any.whl.metadata\n",
      "  Downloading pyppeteer-2.0.0-py3-none-any.whl.metadata (7.1 kB)\n",
      "Requirement already satisfied: appdirs<2.0.0,>=1.4.3 in /home/levi/miniconda3/envs/mikasa/lib/python3.11/site-packages (from pyppeteer>=0.0.14->requests-html) (1.4.4)\n",
      "Requirement already satisfied: certifi>=2023 in /home/levi/miniconda3/envs/mikasa/lib/python3.11/site-packages (from pyppeteer>=0.0.14->requests-html) (2024.2.2)\n",
      "Requirement already satisfied: importlib-metadata>=1.4 in /home/levi/miniconda3/envs/mikasa/lib/python3.11/site-packages (from pyppeteer>=0.0.14->requests-html) (6.8.0)\n",
      "Collecting pyee<12.0.0,>=11.0.0 (from pyppeteer>=0.0.14->requests-html)\n",
      "  Obtaining dependency information for pyee<12.0.0,>=11.0.0 from https://files.pythonhosted.org/packages/16/cc/5cea8a0a0d3deb90b5a0d39ad1a6a1ccaa40a9ea86d793eb8a49d32a6ed0/pyee-11.1.0-py3-none-any.whl.metadata\n",
      "  Downloading pyee-11.1.0-py3-none-any.whl.metadata (2.8 kB)\n",
      "Requirement already satisfied: tqdm<5.0.0,>=4.42.1 in /home/levi/miniconda3/envs/mikasa/lib/python3.11/site-packages (from pyppeteer>=0.0.14->requests-html) (4.66.1)\n",
      "Requirement already satisfied: urllib3<2.0.0,>=1.25.8 in /home/levi/miniconda3/envs/mikasa/lib/python3.11/site-packages (from pyppeteer>=0.0.14->requests-html) (1.26.16)\n",
      "Collecting websockets<11.0,>=10.0 (from pyppeteer>=0.0.14->requests-html)\n",
      "  Obtaining dependency information for websockets<11.0,>=10.0 from https://files.pythonhosted.org/packages/d5/5d/d0b039f0db0bb1fea93437721cf3cd8a244ad02a86960c38a3853d5e1fab/websockets-10.4-cp311-cp311-manylinux_2_5_x86_64.manylinux1_x86_64.manylinux_2_17_x86_64.manylinux2014_x86_64.whl.metadata\n",
      "  Downloading websockets-10.4-cp311-cp311-manylinux_2_5_x86_64.manylinux1_x86_64.manylinux_2_17_x86_64.manylinux2014_x86_64.whl.metadata (6.4 kB)\n",
      "Requirement already satisfied: beautifulsoup4 in /home/levi/miniconda3/envs/mikasa/lib/python3.11/site-packages (from bs4->requests-html) (4.12.2)\n",
      "Requirement already satisfied: lxml>=2.1 in /home/levi/miniconda3/envs/mikasa/lib/python3.11/site-packages (from pyquery->requests-html) (4.9.3)\n",
      "Collecting cssselect>=1.2.0 (from pyquery->requests-html)\n",
      "  Obtaining dependency information for cssselect>=1.2.0 from https://files.pythonhosted.org/packages/06/a9/2da08717a6862c48f1d61ef957a7bba171e7eefa6c0aa0ceb96a140c2a6b/cssselect-1.2.0-py2.py3-none-any.whl.metadata\n",
      "  Downloading cssselect-1.2.0-py2.py3-none-any.whl.metadata (2.2 kB)\n",
      "Requirement already satisfied: charset-normalizer<4,>=2 in /home/levi/miniconda3/envs/mikasa/lib/python3.11/site-packages (from requests->requests-html) (3.2.0)\n",
      "Requirement already satisfied: idna<4,>=2.5 in /home/levi/miniconda3/envs/mikasa/lib/python3.11/site-packages (from requests->requests-html) (3.4)\n",
      "Requirement already satisfied: zipp>=0.5 in /home/levi/miniconda3/envs/mikasa/lib/python3.11/site-packages (from importlib-metadata>=1.4->pyppeteer>=0.0.14->requests-html) (3.16.2)\n",
      "Requirement already satisfied: typing-extensions in /home/levi/miniconda3/envs/mikasa/lib/python3.11/site-packages (from pyee<12.0.0,>=11.0.0->pyppeteer>=0.0.14->requests-html) (4.9.0)\n",
      "Requirement already satisfied: soupsieve>1.2 in /home/levi/miniconda3/envs/mikasa/lib/python3.11/site-packages (from beautifulsoup4->bs4->requests-html) (2.5)\n",
      "Downloading requests_html-0.10.0-py3-none-any.whl (13 kB)\n",
      "Downloading pyppeteer-2.0.0-py3-none-any.whl (82 kB)\n",
      "\u001b[2K   \u001b[38;2;114;156;31m━━━━━━━━━━━━━━━━━━━━━━━━━━━━━━━━━━━━━━━━\u001b[0m \u001b[32m82.9/82.9 kB\u001b[0m \u001b[31m2.3 MB/s\u001b[0m eta \u001b[36m0:00:00\u001b[0m\n",
      "\u001b[?25hDownloading bs4-0.0.2-py2.py3-none-any.whl (1.2 kB)\n",
      "Downloading fake_useragent-1.5.1-py3-none-any.whl (17 kB)\n",
      "Downloading parse-1.20.2-py2.py3-none-any.whl (20 kB)\n",
      "Downloading pyquery-2.0.0-py3-none-any.whl (22 kB)\n",
      "Downloading w3lib-2.2.1-py3-none-any.whl (21 kB)\n",
      "Downloading cssselect-1.2.0-py2.py3-none-any.whl (18 kB)\n",
      "Downloading pyee-11.1.0-py3-none-any.whl (15 kB)\n",
      "Downloading websockets-10.4-cp311-cp311-manylinux_2_5_x86_64.manylinux1_x86_64.manylinux_2_17_x86_64.manylinux2014_x86_64.whl (107 kB)\n",
      "\u001b[2K   \u001b[38;2;114;156;31m━━━━━━━━━━━━━━━━━━━━━━━━━━━━━━━━━━━━━━━━\u001b[0m \u001b[32m107.4/107.4 kB\u001b[0m \u001b[31m1.6 MB/s\u001b[0m eta \u001b[36m0:00:00\u001b[0m4 MB/s\u001b[0m eta \u001b[36m0:00:01\u001b[0m\n",
      "\u001b[?25hInstalling collected packages: parse, fake-useragent, websockets, w3lib, pyee, cssselect, pyquery, pyppeteer, bs4, requests-html\n",
      "  Attempting uninstall: websockets\n",
      "    Found existing installation: websockets 12.0\n",
      "    Uninstalling websockets-12.0:\n",
      "      Successfully uninstalled websockets-12.0\n",
      "Successfully installed bs4-0.0.2 cssselect-1.2.0 fake-useragent-1.5.1 parse-1.20.2 pyee-11.1.0 pyppeteer-2.0.0 pyquery-2.0.0 requests-html-0.10.0 w3lib-2.2.1 websockets-10.4\n"
     ]
    }
   ],
   "source": [
    "!pip install requests-html\n"
   ]
  },
  {
   "cell_type": "code",
   "execution_count": 8,
   "metadata": {},
   "outputs": [],
   "source": [
    "import requests\n",
    "import json\n",
    "import pandas as pd\n",
    "from dotenv import load_dotenv\n",
    "import os\n",
    "import psycopg2\n",
    "from psycopg2 import sql\n",
    "from psycopg2.extras import execute_values\n",
    "import requests\n",
    "from requests_html import HTMLSession\n",
    "\n",
    "\n",
    "def get_cookie_http():\n",
    "    url = \"https://rimafinance.com\"\n",
    "    response = requests.get(url, timeout=55, verify=False)\n",
    "    cookies = response.cookies\n",
    "    for cookie in cookies:\n",
    "        if cookie.name == \"PHPSESSID\":\n",
    "            return cookie.value\n",
    "\n",
    "\n",
    "# If the cookie is set via JavaScript:\n",
    "def get_cookie_js():\n",
    "    session = HTMLSession()\n",
    "    url = \"https://rimafinance.com\"\n",
    "    response = session.get(url, timeout=55, verify=False)\n",
    "    response.html.render()  # This will execute the JavaScript\n",
    "    cookies = session.cookies\n",
    "    for cookie in cookies:\n",
    "        if cookie.name == \"PHPSESSID\":\n",
    "            return cookie.value\n",
    "\n",
    "\n",
    "def ingest_data():\n",
    "    cookie_value = get_cookie_http() or get_cookie_js()\n",
    "    cookies = {\n",
    "        \"PHPSESSID\": cookie_value,\n",
    "    }\n",
    "    headers = {\n",
    "        \"Accept\": \"*/*\",\n",
    "        \"Accept-Language\": \"en,en-US;q=0.9,de;q=0.8,sm;q=0.7,fa;q=0.6\",\n",
    "        \"Cache-Control\": \"no-cache\",\n",
    "        \"Connection\": \"keep-alive\",\n",
    "        # 'Cookie': 'PHPSESSID=elklm86dd23r97s1mt89usc570',\n",
    "        \"Pragma\": \"no-cache\",\n",
    "        \"Referer\": \"https://www.rimafinance.com/?size=500\",\n",
    "        \"Sec-Fetch-Dest\": \"empty\",\n",
    "        \"Sec-Fetch-Mode\": \"cors\",\n",
    "        \"Sec-Fetch-Site\": \"same-origin\",\n",
    "        \"User-Agent\": \"Mozilla/5.0 (iPhone; CPU iPhone OS 16_6 like Mac OS X) AppleWebKit/605.1.15 (KHTML, like Gecko) Version/16.6 Mobile/15E148 Safari/604.1\",\n",
    "        \"X-Requested-With\": \"XMLHttpRequest\",\n",
    "    }\n",
    "\n",
    "    response = requests.get(\n",
    "        \"https://www.rimafinance.com/ajax/all_prices\",\n",
    "        headers=headers,\n",
    "        cookies=cookies,\n",
    "        timeout=55,\n",
    "        verify=False,\n",
    "    )\n",
    "    return response"
   ]
  },
  {
   "cell_type": "code",
   "execution_count": 9,
   "metadata": {},
   "outputs": [
    {
     "name": "stderr",
     "output_type": "stream",
     "text": [
      "/home/levi/miniconda3/envs/mikasa/lib/python3.11/site-packages/urllib3/connectionpool.py:1056: InsecureRequestWarning: Unverified HTTPS request is being made to host 'rimafinance.com'. Adding certificate verification is strongly advised. See: https://urllib3.readthedocs.io/en/1.26.x/advanced-usage.html#ssl-warnings\n",
      "  warnings.warn(\n",
      "/home/levi/miniconda3/envs/mikasa/lib/python3.11/site-packages/urllib3/connectionpool.py:1056: InsecureRequestWarning: Unverified HTTPS request is being made to host 'www.rimafinance.com'. Adding certificate verification is strongly advised. See: https://urllib3.readthedocs.io/en/1.26.x/advanced-usage.html#ssl-warnings\n",
      "  warnings.warn(\n",
      "/home/levi/miniconda3/envs/mikasa/lib/python3.11/site-packages/urllib3/connectionpool.py:1056: InsecureRequestWarning: Unverified HTTPS request is being made to host 'www.rimafinance.com'. Adding certificate verification is strongly advised. See: https://urllib3.readthedocs.io/en/1.26.x/advanced-usage.html#ssl-warnings\n",
      "  warnings.warn(\n"
     ]
    },
    {
     "data": {
      "text/plain": [
       "'{\"meta\":{\"time\":1719741603849,\"time_formatted\":\"\",\"fiyat_yayini\":\"web_socket\",\"fiyat_guncelleme\":2000},\"data\":{\"ALTIN\":{\"code\":\"ALTIN\",\"alis\":\"2466.92\",\"satis\":\"2480.37\",\"tarih\":\"30-06-2024 13:00:02\",\"dir\":{\"alis_dir\":\"up\",\"satis_dir\":\"up\"},\"dusuk\":2480.37,\"yuksek\":2480.37,\"kapanis\":2466.92},\"USDIRRt\":{\"code\":\"USDIRRt\",\"alis\":\"61800\",\"satis\":\"61800\",\"tarih\":\"30-06-2024 13:00:03\",\"dir\":{\"alis_dir\":\"down\",\"satis_dir\":\"down\"},\"dusuk\":60800,\"yuksek\":61800,\"kapanis\":60800},\"EURUSD\":{\"code\":\"EURUSD\",\"alis\":\"1.0682\",\"satis\":\"1.0715\",\"tarih\":\"30-06-2024 13:00:02\",\"dir\":{\"alis_dir\":\"up\",\"satis_dir\":\"up\"},\"dusuk\":1.0715,\"yuksek\":1.0715,\"kapanis\":1.0682},\"XAUUSD\":{\"code\":\"XAUUSD\",\"alis\":\"2326.3\",\"satis\":\"2326.9\",\"tarih\":\"30-06-2024 13:00:02\",\"dir\":{\"alis_dir\":\"up\",\"satis_dir\":\"up\"},\"dusuk\":0,\"yuksek\":2326.9,\"kapanis\":2326.3},\"USDIRR\":{\"code\":\"USDIRR\",\"alis\":\"61900\",\"satis\":\"62250\",\"tarih\":\"30-06-2024 13:00:03\",\"dir\":{\"alis_dir\":\"up\",\"satis_dir\":\"up\"},\"dusuk\":61300,\"yuksek\":62300,\"kapanis\":61020},\"USDTRY\":{\"code\":\"USDTRY\",\"alis\":\"32.550\",\"satis\":\"32.670\",\"tarih\":\"30-06-2024 13:00:02\",\"dir\":{\"alis_dir\":\"up\",\"satis_dir\":\"up\"},\"dusuk\":32.67,\"yuksek\":32.67,\"kapanis\":32.55},\"EURIRR\":{\"code\":\"EURIRR\",\"alis\":\"66183\",\"satis\":\"66676\",\"tarih\":\"30-06-2024 13:00:02\",\"dir\":{\"alis_dir\":\"up\",\"satis_dir\":\"up\"},\"dusuk\":65658,\"yuksek\":66730,\"kapanis\":65243},\"1GR24AYAR\":{\"code\":\"1GR24AYAR\",\"alis\":\"2466.92\",\"satis\":\"2480.37\",\"tarih\":\"30-06-2024 13:00:02\",\"dir\":{\"alis_dir\":\"up\",\"satis_dir\":\"up\"},\"dusuk\":2480.37,\"yuksek\":2480.37,\"kapanis\":2466.92},\"EURTRY\":{\"code\":\"EURTRY\",\"alis\":\"34.801\",\"satis\":\"34.992\",\"tarih\":\"30-06-2024 13:00:02\",\"dir\":{\"alis_dir\":\"up\",\"satis_dir\":\"up\"},\"dusuk\":34.992,\"yuksek\":34.992,\"kapanis\":34.801},\"TRYIRR\":{\"code\":\"TRYIRR\",\"alis\":\"1891\",\"satis\":\"1917\",\"tarih\":\"30-06-2024 13:00:02\",\"dir\":{\"alis_dir\":\"up\",\"satis_dir\":\"up\"},\"dusuk\":1888,\"yuksek\":1919,\"kapanis\":1864},\"2GR24AYAR\":{\"code\":\"2GR24AYAR\",\"alis\":\"2466.92\",\"satis\":\"2480.37\",\"tarih\":\"30-06-2024 13:00:02\",\"dir\":{\"alis_dir\":\"up\",\"satis_dir\":\"up\"},\"dusuk\":2480.37,\"yuksek\":2480.37,\"kapanis\":2466.92},\"GBPUSD\":{\"code\":\"GBPUSD\",\"alis\":\"1.2550\",\"satis\":\"1.2830\",\"tarih\":\"30-06-2024 13:00:02\",\"dir\":{\"alis_dir\":\"up\",\"satis_dir\":\"up\"},\"dusuk\":1.283,\"yuksek\":1.283,\"kapanis\":1.255},\"GBPIRR\":{\"code\":\"GBPIRR\",\"alis\":\"77685\",\"satis\":\"78672\",\"tarih\":\"30-06-2024 13:00:02\",\"dir\":{\"alis_dir\":\"up\",\"satis_dir\":\"up\"},\"dusuk\":77472,\"yuksek\":78735,\"kapanis\":76580},\"3GR24AYAR\":{\"code\":\"3GR24AYAR\",\"alis\":\"2466.92\",\"satis\":\"2480.37\",\"tarih\":\"30-06-2024 13:00:02\",\"dir\":{\"alis_dir\":\"up\",\"satis_dir\":\"up\"},\"dusuk\":2480.37,\"yuksek\":2480.37,\"kapanis\":2466.92},\"AEDUSD\":{\"alis\":0,\"satis\":0,\"tarih\":\"\",\"dusuk\":0,\"yuksek\":0,\"kapanis\":0,\"dir\":{\"alis_dir\":\"\",\"satis_dir\":\"\"}},\"AEDIRR\":{\"alis\":0,\"satis\":0,\"tarih\":\"\",\"dusuk\":0,\"yuksek\":0,\"kapanis\":0,\"dir\":{\"alis_dir\":\"\",\"satis_dir\":\"\"}},\"5GR24AYAR\":{\"code\":\"5GR24AYAR\",\"alis\":\"2466.92\",\"satis\":\"2480.37\",\"tarih\":\"30-06-2024 13:00:02\",\"dir\":{\"alis_dir\":\"up\",\"satis_dir\":\"up\"},\"dusuk\":2480.37,\"yuksek\":2480.37,\"kapanis\":2466.92},\"USDCAD\":{\"code\":\"USDCAD\",\"alis\":\"1.355\",\"satis\":\"1.390\",\"tarih\":\"30-06-2024 13:00:02\",\"dir\":{\"alis_dir\":\"up\",\"satis_dir\":\"up\"},\"dusuk\":1.39,\"yuksek\":1.39,\"kapanis\":1.355},\"CADIRR\":{\"code\":\"CADIRR\",\"alis\":\"44597\",\"satis\":\"45907\",\"tarih\":\"30-06-2024 13:00:02\",\"dir\":{\"alis_dir\":\"up\",\"satis_dir\":\"up\"},\"dusuk\":45206,\"yuksek\":45944,\"kapanis\":43963},\"10GR24AYAR\":{\"code\":\"10GR24AYAR\",\"alis\":\"2466.92\",\"satis\":\"2480.37\",\"tarih\":\"30-06-2024 13:00:02\",\"dir\":{\"alis_dir\":\"up\",\"satis_dir\":\"up\"},\"dusuk\":2480.37,\"yuksek\":2480.37,\"kapanis\":2466.92},\"AUDUSD\":{\"code\":\"AUDUSD\",\"alis\":\"0.646\",\"satis\":\"0.667\",\"tarih\":\"30-06-2024 13:00:02\",\"dir\":{\"alis_dir\":\"up\",\"satis_dir\":\"up\"},\"dusuk\":0.667,\"yuksek\":0.667,\"kapanis\":0.646},\"AUDIRR\":{\"code\":\"AUDIRR\",\"alis\":\"39969\",\"satis\":\"41396\",\"tarih\":\"30-06-2024 13:00:02\",\"dir\":{\"alis_dir\":\"up\",\"satis_dir\":\"up\"},\"dusuk\":40765,\"yuksek\":41430,\"kapanis\":39401},\"20GR24AYAR\":{\"code\":\"20GR24AYAR\",\"alis\":\"2466.92\",\"satis\":\"2480.37\",\"tarih\":\"30-06-2024 13:00:02\",\"dir\":{\"alis_dir\":\"up\",\"satis_dir\":\"up\"},\"dusuk\":2480.37,\"yuksek\":2480.37,\"kapanis\":2466.92},\"USDCHF\":{\"code\":\"USDCHF\",\"alis\":\"0.900\",\"satis\":\"0.912\",\"tarih\":\"30-06-2024 13:00:02\",\"dir\":{\"alis_dir\":\"up\",\"satis_dir\":\"up\"},\"dusuk\":0.912,\"yuksek\":0.912,\"kapanis\":0.9},\"CHFIRR\":{\"code\":\"CHFIRR\",\"alis\":\"67886\",\"satis\":\"69090\",\"tarih\":\"30-06-2024 13:00:02\",\"dir\":{\"alis_dir\":\"up\",\"satis_dir\":\"up\"},\"dusuk\":68036,\"yuksek\":69145,\"kapanis\":66921},\"50GR24AYAR\":{\"code\":\"50GR24AYAR\",\"alis\":\"2466.92\",\"satis\":\"2480.37\",\"tarih\":\"30-06-2024 13:00:02\",\"dir\":{\"alis_dir\":\"up\",\"satis_dir\":\"up\"},\"dusuk\":2480.37,\"yuksek\":2480.37,\"kapanis\":2466.92},\"USDSEK\":{\"alis\":0,\"satis\":0,\"tarih\":\"\",\"dusuk\":0,\"yuksek\":0,\"kapanis\":0,\"dir\":{\"alis_dir\":\"\",\"satis_dir\":\"\"}},\"SEKIRR\":{\"alis\":0,\"satis\":0,\"tarih\":\"\",\"dusuk\":0,\"yuksek\":0,\"kapanis\":0,\"dir\":{\"alis_dir\":\"\",\"satis_dir\":\"\"}},\"100GR24AYAR\":{\"code\":\"100GR24AYAR\",\"alis\":\"2466.92\",\"satis\":\"2480.37\",\"tarih\":\"30-06-2024 13:00:02\",\"dir\":{\"alis_dir\":\"up\",\"satis_dir\":\"up\"},\"dusuk\":2480.37,\"yuksek\":2480.37,\"kapanis\":2466.92},\"USDDKK\":{\"alis\":0,\"satis\":0,\"tarih\":\"\",\"dusuk\":0,\"yuksek\":0,\"kapanis\":0,\"dir\":{\"alis_dir\":\"\",\"satis_dir\":\"\"}},\"DKKIRR\":{\"alis\":0,\"satis\":0,\"tarih\":\"\",\"dusuk\":0,\"yuksek\":0,\"kapanis\":0,\"dir\":{\"alis_dir\":\"\",\"satis_dir\":\"\"}},\"USDNOK\":{\"alis\":0,\"satis\":0,\"tarih\":\"\",\"dusuk\":0,\"yuksek\":0,\"kapanis\":0,\"dir\":{\"alis_dir\":\"\",\"satis_dir\":\"\"}},\"NOKIRR\":{\"alis\":0,\"satis\":0,\"tarih\":\"\",\"dusuk\":0,\"yuksek\":0,\"kapanis\":0,\"dir\":{\"alis_dir\":\"\",\"satis_dir\":\"\"}}}}'"
      ]
     },
     "execution_count": 9,
     "metadata": {},
     "output_type": "execute_result"
    }
   ],
   "source": [
    "ingest_data().text"
   ]
  },
  {
   "cell_type": "code",
   "execution_count": null,
   "metadata": {},
   "outputs": [],
   "source": []
  }
 ],
 "metadata": {
  "kernelspec": {
   "display_name": "mikasa",
   "language": "python",
   "name": "python3"
  },
  "language_info": {
   "codemirror_mode": {
    "name": "ipython",
    "version": 3
   },
   "file_extension": ".py",
   "mimetype": "text/x-python",
   "name": "python",
   "nbconvert_exporter": "python",
   "pygments_lexer": "ipython3",
   "version": "3.11.5"
  }
 },
 "nbformat": 4,
 "nbformat_minor": 2
}
